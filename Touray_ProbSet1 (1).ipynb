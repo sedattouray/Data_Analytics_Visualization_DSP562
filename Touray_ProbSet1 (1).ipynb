{
 "cells": [
  {
   "cell_type": "markdown",
   "metadata": {},
   "source": [
    "# Sheikh-Sedat Touray\n",
    "## DSP 562 \n",
    "## Spring 2024"
   ]
  },
  {
   "cell_type": "markdown",
   "metadata": {},
   "source": [
    "# Problem Set 1 (10 points)"
   ]
  },
  {
   "cell_type": "markdown",
   "metadata": {
    "tags": []
   },
   "source": [
    "## Python Language Basics"
   ]
  },
  {
   "cell_type": "markdown",
   "metadata": {},
   "source": [
    "#### Week 1 References: https://jupyter.uri.edu JupyterLab FAQ"
   ]
  },
  {
   "cell_type": "markdown",
   "metadata": {},
   "source": [
    "### Get an account on jupyter.uri.edu so you can start running Python right away"
   ]
  },
  {
   "cell_type": "markdown",
   "metadata": {},
   "source": [
    "### Upload this Jupyter Notebook to your jupyter.uri.edu account and start filling in the code below the descriptions."
   ]
  },
  {
   "cell_type": "markdown",
   "metadata": {
    "tags": []
   },
   "source": [
    "#### Week 1 References: McKinney, Chapters 1 - 3"
   ]
  },
  {
   "cell_type": "markdown",
   "metadata": {},
   "source": [
    "**#1 Name 3 essential Python libraries:**\n"
   ]
  },
  {
   "cell_type": "markdown",
   "metadata": {},
   "source": [
    "**NumPy:** NumPy contains a fast and efficient multidimensional array object ndarray, facilitates mathematical operations between arrays, tools for reading and writing array-based datasets to disk, and thus provides support for large, multi-dimensional arrays and matrices, along with mathematical functions to operate on these arrays. NumPy is a cornerstone library for data manipulation and analysis in the Python ecosystem.\n",
    "\n",
    "\n",
    "**Pandas:** Provides data structures like DataFrame for efficient manipulation and analysis of structured data. Pandas is widely used for tasks such as data cleaning, exploration, and preparation before analysis because it provides convenient indexing abilities which easily allows us to reshape, slice and dice, perform aggregations and select subsets of data. \n",
    "\n",
    "\n",
    "**Matplotlib:** Is a 2D plotting library for creating static, animated, and interactive visualizations in Python. It provides a wide variety of plots and charts, making it essential for data visualization tasks. Matplotlib is often used in conjunction with other libraries like NumPy and Pandas.\n"
   ]
  },
  {
   "cell_type": "markdown",
   "metadata": {},
   "source": [
    "---"
   ]
  },
  {
   "cell_type": "markdown",
   "metadata": {},
   "source": [
    "**#2 Use a Python command to Display the words: 'Hello world'**"
   ]
  },
  {
   "cell_type": "code",
   "execution_count": 78,
   "metadata": {},
   "outputs": [
    {
     "name": "stdout",
     "output_type": "stream",
     "text": [
      "Hello world\n"
     ]
    }
   ],
   "source": [
    "#Print hello world\n",
    "print(\"Hello world\")"
   ]
  },
  {
   "cell_type": "markdown",
   "metadata": {},
   "source": [
    "**#3 Show a comment or commented line of code**"
   ]
  },
  {
   "cell_type": "code",
   "execution_count": 75,
   "metadata": {},
   "outputs": [
    {
     "name": "stdout",
     "output_type": "stream",
     "text": [
      "Hello world\n"
     ]
    }
   ],
   "source": [
    "# This is a comment in Pythod \n",
    "# The hash symbol makes it a comment\n",
    "#commenting on the code below to print hello world\n",
    "print(\"Hello world\")\n"
   ]
  },
  {
   "cell_type": "markdown",
   "metadata": {},
   "source": [
    "---"
   ]
  },
  {
   "cell_type": "markdown",
   "metadata": {},
   "source": [
    "**#4 Define a function that appends an element to a list - defined by square brackets []**"
   ]
  },
  {
   "cell_type": "code",
   "execution_count": 64,
   "metadata": {},
   "outputs": [],
   "source": [
    "#Data list defined by []\n",
    "data = [5,10,15]\n",
    "#creating the define function\n",
    "def append_list(data, element):\n",
    "    data.append(element)\n",
    "    return data"
   ]
  },
  {
   "cell_type": "markdown",
   "metadata": {},
   "source": [
    "**#5 Run the function, appending an element**"
   ]
  },
  {
   "cell_type": "code",
   "execution_count": 66,
   "metadata": {},
   "outputs": [
    {
     "name": "stdout",
     "output_type": "stream",
     "text": [
      "[5, 10, 15, 20, 20]\n"
     ]
    }
   ],
   "source": [
    "# when we return and run the function\n",
    "# nothing happened so now we shal append add a new member to the list\n",
    "\n",
    "# 20 is the new member we are going to add to list\n",
    "new = 20\n",
    "\n",
    "#Append and store it to the result variable\n",
    "result = append_list(data, new)\n",
    "\n",
    "#print to see what it look like\n",
    "print(result)"
   ]
  },
  {
   "cell_type": "markdown",
   "metadata": {},
   "source": [
    "---"
   ]
  },
  {
   "cell_type": "markdown",
   "metadata": {},
   "source": [
    "**#6 Define a variable with a string value. Use a method to capitalize the first letter of the string.**"
   ]
  },
  {
   "cell_type": "code",
   "execution_count": 8,
   "metadata": {},
   "outputs": [
    {
     "name": "stdout",
     "output_type": "stream",
     "text": [
      "Original String: the problem is an opportunity!\n",
      "\n",
      "Capitalized String: The problem is an opportunity!\n"
     ]
    }
   ],
   "source": [
    "# Define a variable with a string value\n",
    "my_case = \"the problem is an opportunity!\"\n",
    "\n",
    "# Use the capitalize() method to capitalize the first letter\n",
    "caps_case = my_case.capitalize()\n",
    "\n",
    "# Print the original and capitalized strings\n",
    "print(\"Original String:\", my_case)\n",
    "#This adds a space between original and caps strings\n",
    "print('')\n",
    "print(\"Capitalized String:\", caps_case)"
   ]
  },
  {
   "cell_type": "markdown",
   "metadata": {},
   "source": [
    "---"
   ]
  },
  {
   "cell_type": "markdown",
   "metadata": {},
   "source": [
    "**#7 Write a string that spans multiple lines**"
   ]
  },
  {
   "cell_type": "code",
   "execution_count": 69,
   "metadata": {},
   "outputs": [
    {
     "data": {
      "text/plain": [
       "'This is a string\\nthat spans multiple lines\\nusing double triple-quotes.\\nIt can contain line breaks\\nand keeps the formatting.'"
      ]
     },
     "execution_count": 69,
     "metadata": {},
     "output_type": "execute_result"
    }
   ],
   "source": [
    "# Defining the multi_line_string\n",
    "multi_line_string = \"\"\"This is a string\n",
    "that spans multiple lines\n",
    "using double triple-quotes.\n",
    "It can contain line breaks\n",
    "and keeps the formatting.\"\"\"\n",
    "\n",
    "#Calling multi line string to show output\n",
    "multi_line_string\n",
    "\n"
   ]
  },
  {
   "cell_type": "code",
   "execution_count": 73,
   "metadata": {},
   "outputs": [
    {
     "name": "stdout",
     "output_type": "stream",
     "text": [
      "This is a string.\n",
      "It spans multiple lines.\n",
      "Uses double triple-quotes.\n",
      "It can contain line breaks.\n",
      "And keeps the formatting.\n"
     ]
    }
   ],
   "source": [
    "#printing the several lines of text using the new line symbol \\n\n",
    "print('This is a string.\\nIt spans multiple lines.\\nUses double triple-quotes.\\nIt can contain line breaks.\\nAnd keeps the formatting.')"
   ]
  },
  {
   "cell_type": "markdown",
   "metadata": {},
   "source": [
    "---"
   ]
  },
  {
   "cell_type": "markdown",
   "metadata": {},
   "source": [
    "**#8 Control flow: Give Examples of if, elif, and else**"
   ]
  },
  {
   "cell_type": "code",
   "execution_count": 15,
   "metadata": {},
   "outputs": [
    {
     "name": "stdout",
     "output_type": "stream",
     "text": [
      "Reference is positive.\n"
     ]
    }
   ],
   "source": [
    "#choose a reference number that the control flow is going to be dependent on \n",
    "\n",
    "ref_num = 10\n",
    "\n",
    "if ref_num > 0:\n",
    "    print(\"Reference is positive.\")\n",
    "elif ref_num == 0:\n",
    "    print(\"Reference is zero.\")\n",
    "else:\n",
    "    print(\"Reference is negative.\")"
   ]
  },
  {
   "cell_type": "markdown",
   "metadata": {},
   "source": [
    "An if statement can be optionally followed by one or more elif blocks and a catchall\n",
    "else block if all of the conditions are False. If any of the conditions are True, no further elif or else blocks will be reached."
   ]
  },
  {
   "cell_type": "markdown",
   "metadata": {},
   "source": [
    "---"
   ]
  },
  {
   "cell_type": "markdown",
   "metadata": {},
   "source": [
    "**#9 Give an example of a for loop**"
   ]
  },
  {
   "cell_type": "code",
   "execution_count": 38,
   "metadata": {},
   "outputs": [
    {
     "name": "stdout",
     "output_type": "stream",
     "text": [
      "USA\n",
      "Skipping Germany...\n",
      "Skipping Gambia...\n",
      "Spain\n",
      "Dubai\n",
      "France\n",
      "Italy\n",
      "Skipping Gabon...\n",
      "Skipping Greece...\n",
      "Portugal\n"
     ]
    }
   ],
   "source": [
    "#Define the countries in a list \n",
    "country = [\"USA\", \"Germany\",\"Gambia\", \"Spain\",\"Dubai\",\"France\", \"Italy\", \"Gabon\", \"Greece\", \"Portugal\"]\n",
    "\n",
    "#for loop with if statement to skip countries taht start with G\n",
    "for name in country:\n",
    "    if name.startswith('G'):\n",
    "        #printing skipped countries with results\n",
    "        print(f\"Skipping {name}...\")\n",
    "        continue  # Continue to the next iteration without executing the rest of the loop body\n",
    "    else:\n",
    "        print(name)\n"
   ]
  },
  {
   "cell_type": "code",
   "execution_count": 40,
   "metadata": {},
   "outputs": [
    {
     "name": "stdout",
     "output_type": "stream",
     "text": [
      "USA\n",
      "Spain\n",
      "Dubai\n",
      "France\n",
      "Italy\n",
      "Portugal\n"
     ]
    }
   ],
   "source": [
    "# Now instead of printing the countries we will just remove them for now \n",
    "# For better visualization of code results\n",
    "country = [\"USA\", \"Germany\",\"Gambia\", \"Spain\",\"Dubai\",\"France\", \"Italy\", \"Gabon\", \"Greece\", \"Portugal\"]\n",
    "\n",
    "counter = []\n",
    "for name in country:\n",
    "    if name.startswith('G'):\n",
    "        continue  # Continue to the next iteration without executing the rest of the loop body\n",
    "    else:\n",
    "        print(name)\n"
   ]
  },
  {
   "cell_type": "markdown",
   "metadata": {},
   "source": [
    "---"
   ]
  },
  {
   "cell_type": "markdown",
   "metadata": {},
   "source": [
    "**#10 Give an example of a while loop**"
   ]
  },
  {
   "cell_type": "code",
   "execution_count": 42,
   "metadata": {
    "tags": []
   },
   "outputs": [
    {
     "name": "stdout",
     "output_type": "stream",
     "text": [
      "1\n",
      "3\n",
      "5\n",
      "7\n",
      "9\n"
     ]
    }
   ],
   "source": [
    "# Using a while loop to count from 1 to 10, skipping even numbers\n",
    "number = 1\n",
    "\n",
    "while number <= 10:\n",
    "    if number % 2 == 0:\n",
    "        # Skip even numbers\n",
    "        number += 1\n",
    "        continue  # Continue to the next iteration without executing the rest of the loop body\n",
    "    \n",
    "    print(number)\n",
    "    number += 1"
   ]
  },
  {
   "cell_type": "markdown",
   "metadata": {},
   "source": [
    "A while loop specifies a condition and a block of code that is to be executed until the condition evaluates to False or the loop is explicitly ended with break."
   ]
  },
  {
   "cell_type": "markdown",
   "metadata": {},
   "source": [
    "---"
   ]
  },
  {
   "cell_type": "markdown",
   "metadata": {},
   "source": [
    "**#11 Give an example of the 'no-op' statement: pass**"
   ]
  },
  {
   "cell_type": "code",
   "execution_count": 2,
   "metadata": {},
   "outputs": [
    {
     "name": "stdout",
     "output_type": "stream",
     "text": [
      "neutral!\n",
      "positive!\n",
      "positive!\n",
      "positive!\n"
     ]
    }
   ],
   "source": [
    "#no-op statement in a for loop \n",
    "for i in range(4):\n",
    "    if i<0: \n",
    "        print(\"negative!\")\n",
    "    elif i==0:\n",
    "        print(\"neutral!\")\n",
    "        pass #place holder\n",
    "    else: print(\"positive!\")\n"
   ]
  },
  {
   "cell_type": "markdown",
   "metadata": {},
   "source": [
    "**#12 Give an example of the range function**"
   ]
  },
  {
   "cell_type": "code",
   "execution_count": 16,
   "metadata": {},
   "outputs": [
    {
     "name": "stdout",
     "output_type": "stream",
     "text": [
      "Generated numbers: [0, 1, 2, 3, 4]\n",
      "\n",
      "Custom range: [1, 4, 7, 10, 13]\n",
      "\n",
      "Element at index 0: 10\n",
      "Element at index 1: 20\n",
      "Element at index 2: 30\n",
      "Element at index 3: 40\n",
      "Element at index 4: 50\n"
     ]
    }
   ],
   "source": [
    "# Example: Using the range function to generate a sequence of numbers\n",
    "numbers = range(5)  # Generates numbers from 0 to 4\n",
    "\n",
    "# Accessing elements in the range\n",
    "print(\"Generated numbers:\", list(numbers))\n",
    "print('')\n",
    "# Example: Using the range function with start, stop, and step\n",
    "custom_range = range(1, 15, 3)  # Generates odd numbers from 1 to 13 with a step of 3\n",
    "\n",
    "# Accessing elements in the custom range\n",
    "print(\"Custom range:\", list(custom_range))\n",
    "print('')\n",
    "# Example: Using range with the length of a list\n",
    "my_list = [10, 20, 30, 40, 50]\n",
    "\n",
    "# Creating a range based on the length of the list\n",
    "index_range = range(len(my_list))\n",
    "\n",
    "# Accessing elements using the range\n",
    "for i in index_range:\n",
    "    print(f\"Element at index {i}: {my_list[i]}\")"
   ]
  },
  {
   "cell_type": "markdown",
   "metadata": {},
   "source": [
    "---"
   ]
  },
  {
   "cell_type": "markdown",
   "metadata": {},
   "source": [
    "**#13 Give an example of a ternary expression**"
   ]
  },
  {
   "cell_type": "code",
   "execution_count": 17,
   "metadata": {},
   "outputs": [
    {
     "name": "stdout",
     "output_type": "stream",
     "text": [
      "The number 8 is Even.\n"
     ]
    }
   ],
   "source": [
    "# Example: Ternary expression to determine if a number is even or odd\n",
    "number = 8\n",
    "\n",
    "result = \"Even\" if number % 2 == 0 else \"Odd\"\n",
    "\n",
    "print(f\"The number {number} is {result}.\")"
   ]
  },
  {
   "cell_type": "markdown",
   "metadata": {},
   "source": [
    "checks if the number is even or odd. If the condition number % 2 == 0 is true, it assigns the string \"Even\" to the variable result; otherwise, it assigns \"Odd\". The result is then printed.\n",
    "\n",
    "Ternary expressions are useful for writing compact conditional statements in situations where a full if-else block is not necessary."
   ]
  },
  {
   "cell_type": "markdown",
   "metadata": {},
   "source": [
    "---"
   ]
  },
  {
   "cell_type": "markdown",
   "metadata": {},
   "source": [
    "**#14 Give an example of a Tuple data structure**"
   ]
  },
  {
   "cell_type": "markdown",
   "metadata": {},
   "source": [
    "A tuple is a fixed-length, immutable sequence of Python objects which, once assigned, cannot be changed. The easiest way to create one is with a comma-separated sequence of values wrapped in parentheses"
   ]
  },
  {
   "cell_type": "code",
   "execution_count": 19,
   "metadata": {},
   "outputs": [
    {
     "name": "stdout",
     "output_type": "stream",
     "text": [
      "tupf: (4, 5, 6)\n",
      "\n",
      "tups: (5, 2, 3, 1)\n",
      "\n",
      "tupt: ('s', 't', 'r', 'i', 'n', 'g')\n",
      "\n",
      "b =  2\n",
      "\n",
      "concatenate:  (4, 5, 6, 's', 't', 'r', 'i', 'n', 'g')\n"
     ]
    }
   ],
   "source": [
    "# you can leave out parenthesis\n",
    "tup1= 4,5,6\n",
    "\n",
    "#make a list,sequence, operator using tuple function\n",
    "tup2 = tuple([5,2,3,1])\n",
    "\n",
    "#make a string tuple using tuple function\n",
    "tup3 = tuple(\"string\")\n",
    "\n",
    "print('tupf:', tup1)\n",
    "print(\"\")\n",
    "print('tups:', tup2)\n",
    "print(\"\")\n",
    "print('tupt:', tup3)\n",
    "print(\"\")\n",
    "\n",
    "\n",
    "#Elements can be accessed with square brackets [] as with most other sequence types.\n",
    "tup1[1],tup2[3],tup3[5]\n",
    "\n",
    "#tuples can be unpacked\n",
    "#example\n",
    "a,b,c,d =tup2\n",
    "print(\"b = \",b)\n",
    "print('')\n",
    "#You can concatenate tuples using the + operator to produce longer tuples. \n",
    "contup = tup1+tup3\n",
    "print(\"concatenate: \",contup)"
   ]
  },
  {
   "cell_type": "markdown",
   "metadata": {},
   "source": [
    "---"
   ]
  },
  {
   "cell_type": "markdown",
   "metadata": {},
   "source": [
    "**#15 Give an example of a List data structure**"
   ]
  },
  {
   "cell_type": "code",
   "execution_count": 11,
   "metadata": {},
   "outputs": [
    {
     "name": "stdout",
     "output_type": "stream",
     "text": [
      "First color: red\n",
      "Second color: white\n",
      "All colors: ['red', 'white', 'blue', 'white', 'green']\n"
     ]
    }
   ],
   "source": [
    "# Example: List representing a collection of colors\n",
    "colors = [\"red\", \"white\", \"blue\",\"white\", \"green\"]\n",
    "\n",
    "# Accessing elements in the list\n",
    "print(\"First color:\", colors[0])\n",
    "print(\"Second color:\", colors[1])\n",
    "print(\"All colors:\", colors)"
   ]
  },
  {
   "cell_type": "markdown",
   "metadata": {},
   "source": [
    "---"
   ]
  },
  {
   "cell_type": "markdown",
   "metadata": {},
   "source": [
    "**#16 Give an example of a dict data structure**"
   ]
  },
  {
   "cell_type": "code",
   "execution_count": 10,
   "metadata": {},
   "outputs": [
    {
     "name": "stdout",
     "output_type": "stream",
     "text": [
      "Name: Sedat T\n",
      "Age: 100\n",
      "City: Kingston\n",
      "Email: Sedattt@uri.com\n"
     ]
    }
   ],
   "source": [
    "# Example: Dictionary representing information about a person\n",
    "dict_P = {\n",
    "    \"name\": \"Sedat T\",\n",
    "    \"age\": 100,\n",
    "    \"city\": \"Kingston\",\n",
    "    \"email\": \"Sedattt@uri.com\"\n",
    "}\n",
    "\n",
    "# Accessing values in the dictionary\n",
    "print(\"Name:\", dict_P[\"name\"])\n",
    "print(\"Age:\", dict_P[\"age\"])\n",
    "print(\"City:\", dict_P[\"city\"])\n",
    "print(\"Email:\", dict_P[\"email\"])"
   ]
  },
  {
   "cell_type": "markdown",
   "metadata": {},
   "source": [
    "---"
   ]
  },
  {
   "cell_type": "markdown",
   "metadata": {},
   "source": [
    "**#17 Functions are objects. Add the missing code in the function definition to make it work:**\n"
   ]
  },
  {
   "cell_type": "code",
   "execution_count": 54,
   "metadata": {},
   "outputs": [],
   "source": [
    "states = [\"   Alabama \", \"Georgia!\", \"Georgia\", \"georgia\", \"FlOrIda\",\n",
    "          \"south   carolina##\", \"West virginia?\"]"
   ]
  },
  {
   "cell_type": "code",
   "execution_count": 55,
   "metadata": {},
   "outputs": [],
   "source": [
    "#! ipython verbatim id=fb7c1a7bea534d85ba3b735097ad0235\n",
    "import re\n",
    "# we add def to make it our custom function\n",
    "def clean_strings(strings):\n",
    "    result = [] #empty list to store results \n",
    "    for value in strings:\n",
    "        value = value.strip()\n",
    "        value = re.sub(\"[!#?]\", \"\", value)\n",
    "        value = value.title() #correct by adding value\n",
    "        result.append(value)\n",
    "    return result"
   ]
  },
  {
   "cell_type": "code",
   "execution_count": 58,
   "metadata": {},
   "outputs": [
    {
     "name": "stdout",
     "output_type": "stream",
     "text": [
      "['Alabama', 'Georgia', 'Georgia', 'Georgia', 'Florida', 'South   Carolina', 'West Virginia']\n"
     ]
    }
   ],
   "source": [
    "cleaned_states = clean_strings(states)#replace value with states\n",
    "#Print out the cleaned states \n",
    "print(cleaned_states)"
   ]
  },
  {
   "cell_type": "markdown",
   "metadata": {},
   "source": [
    "---"
   ]
  },
  {
   "cell_type": "markdown",
   "metadata": {},
   "source": [
    "**#18 Generators: fill in the missing code to make it work: generate squares from 1 to 100**"
   ]
  },
  {
   "cell_type": "code",
   "execution_count": 43,
   "metadata": {},
   "outputs": [],
   "source": [
    "# we add def to make it our custom function\n",
    "def squares(n=10):\n",
    "    print(f\"Generating squares from 1 to {n}\")\n",
    "    for i in range(1, n + 1):\n",
    "        yield i ** 2"
   ]
  },
  {
   "cell_type": "code",
   "execution_count": 44,
   "metadata": {},
   "outputs": [],
   "source": [
    "# Provide the desired value of n\n",
    "gen = squares(10)\n"
   ]
  },
  {
   "cell_type": "code",
   "execution_count": 45,
   "metadata": {},
   "outputs": [
    {
     "name": "stdout",
     "output_type": "stream",
     "text": [
      "Generating squares from 1 to 10\n",
      "1 4 9 16 25 36 49 64 81 100 "
     ]
    }
   ],
   "source": [
    "#create a for loop to iterate\n",
    "for x in gen:\n",
    "    print(x, end=\" \")"
   ]
  },
  {
   "cell_type": "markdown",
   "metadata": {},
   "source": [
    "---"
   ]
  },
  {
   "cell_type": "markdown",
   "metadata": {},
   "source": [
    "**#19 Open a text file for reading or writing using the built-in open function**"
   ]
  },
  {
   "cell_type": "code",
   "execution_count": 60,
   "metadata": {},
   "outputs": [
    {
     "name": "stdout",
     "output_type": "stream",
     "text": [
      "File content: Hello, this is a sample text.\n"
     ]
    }
   ],
   "source": [
    "#Define the file path\n",
    "file_path = \"array_ex.txt\"\n",
    "\n",
    "\n",
    "# Open the file for writing (create if it doesn't exist)\n",
    "with open(file_path, \"w\") as file:\n",
    "    file.write(\"Hello, this is a sample text.\")\n",
    "\n",
    "# Open the file for reading\n",
    "with open(file_path, \"r\") as file:\n",
    "    content = file.read()\n",
    "    print(\"File content:\", content)"
   ]
  },
  {
   "cell_type": "markdown",
   "metadata": {},
   "source": [
    "---"
   ]
  },
  {
   "cell_type": "markdown",
   "metadata": {},
   "source": [
    "**#20 Close the file**"
   ]
  },
  {
   "cell_type": "code",
   "execution_count": 63,
   "metadata": {},
   "outputs": [],
   "source": [
    "# Close the file \n",
    "file.close()\n"
   ]
  },
  {
   "cell_type": "markdown",
   "metadata": {},
   "source": [
    "Download this *.ipynb* notebook file and submit it to your Brightspace Assignment Problem Set 1."
   ]
  }
 ],
 "metadata": {
  "kernelspec": {
   "display_name": "Python 3",
   "language": "python",
   "name": "python3"
  },
  "language_info": {
   "codemirror_mode": {
    "name": "ipython",
    "version": 3
   },
   "file_extension": ".py",
   "mimetype": "text/x-python",
   "name": "python",
   "nbconvert_exporter": "python",
   "pygments_lexer": "ipython3",
   "version": "3.6.8"
  }
 },
 "nbformat": 4,
 "nbformat_minor": 4
}
